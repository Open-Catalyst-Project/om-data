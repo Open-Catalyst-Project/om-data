{
 "cells": [
  {
   "cell_type": "markdown",
   "id": "f1ed77d8-844a-4213-9a7d-5de7a76006be",
   "metadata": {},
   "source": [
    "# IonSolvR MD trajectories\n",
    "\n",
    "## Description\n",
    "\n",
    "IonSolvR (DOI: 10.1038/s41597-022-01527-8) is a dataset of solvated ion structures. It was generated using AIMD, with semiempirical density functional tight-binding (DFTB3) as the source of energies and forces.\n",
    "\n",
    "Trajectories were performed for combinations of 55 solutes and 28 solvents (protic and aprotic). Each trajectory contains one solute (in most cases a single ion; in some cases, a formula unit like MgO or MgCl2) and some number of solvent (between 4 and 300). Not all combinations of solute, solvent, and system size were attempted.\n",
    "\n",
    "Each trajectory is packaged as a *.zip file with four components: an *.xyz file, containing the coordinates, velocities, and partial charges of each atom in each snapshot; an *.out file, containing some overall system information for each snapshot (pressure, temperature, total energy, etc.); and two folders, one containing the initial information about the system and one containing all data for the final second of the simulation.\n",
    "\n",
    "## Objective\n",
    "\n",
    "We want to extract \"diverse\" snapshots from IonSolvR. \"Diverse\" is somewhat nebulous but can refer to \n",
    "\n",
    "Mostly, we are interested in small clusters around the solvated ion(s) (i.e. first solvation shells). However, for some systems, it may be possible and important to also perform calculations on larger clusters, for instance second solvation shells or perhaps even the entire simulation box\n",
    "\n",
    "This notebook contains the steps necessary to load in a trajectory from IonSolvR, perform some preprocessing, identify solvation environments around the ions, and extract these as ASE Atoms objects for further calculation.\n",
    "\n",
    "## Strategy\n",
    "\n",
    "1. For each trajectory, group first solvation shells by topology. That is, separate different types of local environments. Solvent-separated ion pairs are separate from contact-ion pairs, 4-fold coordination is separate from 5-fold coordination, etc.\n",
    "2. (Inspired by SPICE) within each group, select `n` solvent shells that are maximally different, as measured by some metric like RMSD\n",
    "3. In addition, for `m` random snapshots where the innser solvent shell was NOT chosen, extract larger solvent shell.\n",
    "\n",
    "## Questions\n",
    "\n",
    "1. For the larger (non-first-shell) calculations, should they all use the same cutoffs? Should they be variable?"
   ]
  },
  {
   "cell_type": "code",
   "execution_count": 22,
   "id": "0df63a74-a68d-4685-8f1b-93bacd18f962",
   "metadata": {},
   "outputs": [],
   "source": [
    "import os\n",
    "import copy\n",
    "from collections import defaultdict\n",
    "import itertools\n",
    "\n",
    "from IPython.core.display import Image\n",
    "\n",
    "import numpy as np\n",
    "import matplotlib.pyplot as plt\n",
    "\n",
    "import MDAnalysis as mda\n",
    "import MDAnalysis.transformations\n",
    "import nglview as nv\n",
    "\n",
    "# Now to extract the first solvation shells \n",
    "import solvation_analysis\n",
    "from solvation_analysis.solute import Solute\n",
    "from solvation_analysis._column_names import *\n",
    "\n",
    "from pymatgen.core.structure import Molecule"
   ]
  },
  {
   "cell_type": "code",
   "execution_count": 2,
   "id": "aa59184a-b97e-44f7-83f0-738dedb76db5",
   "metadata": {},
   "outputs": [],
   "source": [
    "base_dir = \"/home/ewcss/data/omol24/20240126_ionsolvr_test/water_formate_32\"\n",
    "\n",
    "# Bookkeeping - creating universe with certain number of atoms, \"residues\" (molecules) and \"segments\"\n",
    "solute_natoms = 4\n",
    "solvent_natoms = 3\n",
    "nsolvent = 32\n",
    "natoms = solute_natoms + solvent_natoms * nsolvent\n",
    "\n",
    "# Residue assignment is easy because of how IonSolvR trajectories are organized\n",
    "resindices = np.concatenate((np.zeros(solute_natoms), np.repeat(range(1, nsolvent + 1), solvent_natoms)), axis=None)\n",
    "\n",
    "# Segments likewise straightforward\n",
    "# Solute is one segment; solvent is another\n",
    "# This is pretty arbitrary; I don't think we'll actually do anything on the segment level\n",
    "segindices = [0] + [1] * nsolvent"
   ]
  },
  {
   "cell_type": "code",
   "execution_count": 3,
   "id": "eae25c22-6b37-4437-8ea5-e04b781b02c6",
   "metadata": {},
   "outputs": [
    {
     "name": "stdout",
     "output_type": "stream",
     "text": [
      "[10.115503 10.115503 10.115503 90.       90.       90.      ]\n"
     ]
    }
   ],
   "source": [
    "universe = mda.Universe.empty(natoms,\n",
    "                              n_residues=1 + nsolvent,\n",
    "                              atom_resindex=resindices,\n",
    "                              residue_segindex=segindices,\n",
    "                              trajectory=True) # necessary for adding coordinates\n",
    "\n",
    "gen_file = os.path.join(base_dir, \"FINAL_run\", \"geom.gen\")\n",
    "\n",
    "# More bookkeeping - assigning some basic attributes\n",
    "universe.add_TopologyAttr('name', ['C', 'O1', 'O2', 'H1'] + ['O3', 'H2', 'H3'] * nsolvent)\n",
    "universe.add_TopologyAttr('type', ['C', 'O', 'O', 'H'] + ['O', 'H', 'H'] * nsolvent)\n",
    "universe.add_TopologyAttr('resname', ['solute'] + ['solvent'] * nsolvent)\n",
    "universe.add_TopologyAttr('resid', list(range(0, nsolvent + 1)))\n",
    "universe.add_TopologyAttr('elements', ['C', 'O', 'O', 'H'] + ['O', 'H', 'H'] * nsolvent)\n",
    "universe.add_TopologyAttr('masses', [12.011, 15.999, 15.999, 1.008] + [15.999, 1.008, 1.008] * nsolvent)\n",
    "\n",
    "# Add bonds\n",
    "solu = universe.select_atoms('resname solute')\n",
    "co1 = solu.select_atoms('name C or name O1').split('residue')\n",
    "co2 = solu.select_atoms('name C or name O2').split('residue')\n",
    "ch = solu.select_atoms('name C or name H1').split('residue')\n",
    "solv = universe.select_atoms('resname solvent')\n",
    "oh1 = solv.select_atoms('name O3 or name H2').split('residue')\n",
    "oh2 = solv.select_atoms('name O3 or name H3').split('residue')\n",
    "universe.add_bonds(co1 + co2 + ch + oh1 + oh2)\n",
    "\n",
    "# Add trajectory\n",
    "universe.load_new(os.path.join(base_dir, \"waterformate32.xyz\"))\n",
    "\n",
    "# Add PBC box\n",
    "with open(gen_file) as file:\n",
    "    dimension_lines = file.readlines()[-3:]\n",
    "    a = float(dimension_lines[0].split()[0])\n",
    "    b = float(dimension_lines[1].split()[1])\n",
    "    c = float(dimension_lines[2].split()[2])\n",
    "    universe.dimensions = [a, b, c, 90, 90, 90]\n",
    "\n",
    "print(universe.dimensions)\n"
   ]
  },
  {
   "cell_type": "code",
   "execution_count": 5,
   "id": "499b9cc9-e221-498b-90c0-a708f38f3183",
   "metadata": {},
   "outputs": [],
   "source": [
    "# Put the solute in the center of the box at all time steps\n",
    "for ts in universe.trajectory:\n",
    "    ts.dimensions = universe.dimensions\n",
    "    \n",
    "    solu.unwrap(compound='fragments')\n",
    "    \n",
    "    solu_center = solu.center_of_mass(pbc=True)\n",
    "    dim = ts.triclinic_dimensions\n",
    "    box_center = np.sum(dim, axis=0) / 2\n",
    "    universe.atoms.translate(box_center - solu_center)\n",
    "\n",
    "    solv.wrap(compound='residues')"
   ]
  },
  {
   "cell_type": "code",
   "execution_count": 6,
   "id": "a690bfbc-c4f2-459e-8975-aecce3211911",
   "metadata": {},
   "outputs": [
    {
     "data": {
      "image/png": "[encoded data removed]",
      "text/plain": [
       "<rdkit.Chem.rdchem.Mol at 0x75b3ea5402e0>"
      ]
     },
     "execution_count": 6,
     "metadata": {},
     "output_type": "execute_result"
    }
   ],
   "source": [
    "distance_cutoff = 2.4\n",
    "\n",
    "solute = universe.select_atoms(\"resname solute\")\n",
    "solvent = universe.atoms - solute\n",
    "\n",
    "solv_anal = Solute.from_atoms(solute, {'solvent': solvent}, solute_name=\"solute\", radii={'solvent': distance_cutoff})\n",
    "\n",
    "solv_anal.draw_molecule('solute')"
   ]
  },
  {
   "cell_type": "code",
   "execution_count": 7,
   "id": "2f41616d-aa62-4fed-824f-df4c6831fc84",
   "metadata": {},
   "outputs": [
    {
     "data": {
      "image/png": "[encoded data removed]",
      "text/plain": [
       "<rdkit.Chem.rdchem.Mol at 0x75b3ea5403c0>"
      ]
     },
     "execution_count": 7,
     "metadata": {},
     "output_type": "execute_result"
    }
   ],
   "source": [
    "solv_anal.draw_molecule('solvent')"
   ]
  },
  {
   "cell_type": "code",
   "execution_count": 8,
   "id": "eddc9a56-62db-4d53-9bb1-9f143fa3fb32",
   "metadata": {},
   "outputs": [
    {
     "name": "stderr",
     "output_type": "stream",
     "text": [
      "/home/ewcss/.conda/envs/omol24/lib/python3.11/site-packages/MDAnalysis/analysis/base.py:447: UserWarning: Reader has no dt information, set to 1.0 ps\n",
      "  self.times[i] = ts.time\n",
      "/home/ewcss/.conda/envs/omol24/lib/python3.11/site-packages/MDAnalysis/analysis/base.py:447: UserWarning: Reader has no dt information, set to 1.0 ps\n",
      "  self.times[i] = ts.time\n",
      "/home/ewcss/.conda/envs/omol24/lib/python3.11/site-packages/MDAnalysis/analysis/base.py:447: UserWarning: Reader has no dt information, set to 1.0 ps\n",
      "  self.times[i] = ts.time\n",
      "/home/ewcss/.conda/envs/omol24/lib/python3.11/site-packages/MDAnalysis/analysis/base.py:447: UserWarning: Reader has no dt information, set to 1.0 ps\n",
      "  self.times[i] = ts.time\n"
     ]
    }
   ],
   "source": [
    "# Identify the cutoff for the first solvation shell, based on the MD trajectory\n",
    "# This could take a while\n",
    "solv_anal.run()"
   ]
  },
  {
   "cell_type": "code",
   "execution_count": 9,
   "id": "42c768a2-a847-468b-90df-cd40b598ad07",
   "metadata": {},
   "outputs": [
    {
     "data": {
      "image/png": "[encoded data removed]",
      "text/plain": [
       "<Figure size 640x480 with 1 Axes>"
      ]
     },
     "metadata": {},
     "output_type": "display_data"
    }
   ],
   "source": [
    "# Plot the RDF\n",
    "solv_anal.plot_solvation_radius('solute_1', 'solvent')\n",
    "plt.show()"
   ]
  },
  {
   "cell_type": "code",
   "execution_count": 10,
   "id": "10815e80-8b20-4c9b-897f-559fdca2f5e0",
   "metadata": {},
   "outputs": [
    {
     "data": {
      "image/png": "[encoded data removed]",
      "text/plain": [
       "<Figure size 640x480 with 1 Axes>"
      ]
     },
     "metadata": {},
     "output_type": "display_data"
    }
   ],
   "source": [
    "# Plot the RDF\n",
    "solv_anal.plot_solvation_radius('solute_3', 'solvent')\n",
    "plt.show()"
   ]
  },
  {
   "cell_type": "code",
   "execution_count": 11,
   "id": "7edd1b2b-2575-4f0a-9443-f3639e3eae3d",
   "metadata": {},
   "outputs": [
    {
     "data": {
      "text/html": [
       "<div>\n",
       "<style scoped>\n",
       "    .dataframe tbody tr th:only-of-type {\n",
       "        vertical-align: middle;\n",
       "    }\n",
       "\n",
       "    .dataframe tbody tr th {\n",
       "        vertical-align: top;\n",
       "    }\n",
       "\n",
       "    .dataframe thead th {\n",
       "        text-align: right;\n",
       "    }\n",
       "</style>\n",
       "<table border=\"1\" class=\"dataframe\">\n",
       "  <thead>\n",
       "    <tr style=\"text-align: right;\">\n",
       "      <th></th>\n",
       "      <th>solvent</th>\n",
       "      <th>count</th>\n",
       "    </tr>\n",
       "  </thead>\n",
       "  <tbody>\n",
       "    <tr>\n",
       "      <th>0</th>\n",
       "      <td>7</td>\n",
       "      <td>0.255977</td>\n",
       "    </tr>\n",
       "    <tr>\n",
       "      <th>1</th>\n",
       "      <td>8</td>\n",
       "      <td>0.224988</td>\n",
       "    </tr>\n",
       "    <tr>\n",
       "      <th>2</th>\n",
       "      <td>6</td>\n",
       "      <td>0.196268</td>\n",
       "    </tr>\n",
       "    <tr>\n",
       "      <th>3</th>\n",
       "      <td>9</td>\n",
       "      <td>0.145879</td>\n",
       "    </tr>\n",
       "    <tr>\n",
       "      <th>4</th>\n",
       "      <td>10</td>\n",
       "      <td>0.072339</td>\n",
       "    </tr>\n",
       "    <tr>\n",
       "      <th>5</th>\n",
       "      <td>5</td>\n",
       "      <td>0.056919</td>\n",
       "    </tr>\n",
       "    <tr>\n",
       "      <th>6</th>\n",
       "      <td>11</td>\n",
       "      <td>0.029980</td>\n",
       "    </tr>\n",
       "    <tr>\n",
       "      <th>7</th>\n",
       "      <td>12</td>\n",
       "      <td>0.010170</td>\n",
       "    </tr>\n",
       "    <tr>\n",
       "      <th>8</th>\n",
       "      <td>4</td>\n",
       "      <td>0.003700</td>\n",
       "    </tr>\n",
       "    <tr>\n",
       "      <th>9</th>\n",
       "      <td>13</td>\n",
       "      <td>0.002810</td>\n",
       "    </tr>\n",
       "    <tr>\n",
       "      <th>10</th>\n",
       "      <td>14</td>\n",
       "      <td>0.000800</td>\n",
       "    </tr>\n",
       "    <tr>\n",
       "      <th>11</th>\n",
       "      <td>15</td>\n",
       "      <td>0.000110</td>\n",
       "    </tr>\n",
       "    <tr>\n",
       "      <th>12</th>\n",
       "      <td>3</td>\n",
       "      <td>0.000050</td>\n",
       "    </tr>\n",
       "    <tr>\n",
       "      <th>13</th>\n",
       "      <td>16</td>\n",
       "      <td>0.000010</td>\n",
       "    </tr>\n",
       "  </tbody>\n",
       "</table>\n",
       "</div>"
      ],
      "text/plain": [
       "    solvent     count\n",
       "0         7  0.255977\n",
       "1         8  0.224988\n",
       "2         6  0.196268\n",
       "3         9  0.145879\n",
       "4        10  0.072339\n",
       "5         5  0.056919\n",
       "6        11  0.029980\n",
       "7        12  0.010170\n",
       "8         4  0.003700\n",
       "9        13  0.002810\n",
       "10       14  0.000800\n",
       "11       15  0.000110\n",
       "12        3  0.000050\n",
       "13       16  0.000010"
      ]
     },
     "execution_count": 11,
     "metadata": {},
     "output_type": "execute_result"
    }
   ],
   "source": [
    "# NOTE: it seems that the different solvent numbers are based on number of coordinate bonds, NOT number of coordinating molecules\n",
    "# But these different environments are probably distinct enough to treat separately?\n",
    "\n",
    "solv_anal.speciation.speciation_fraction"
   ]
  },
  {
   "cell_type": "code",
   "execution_count": 12,
   "id": "c6169536-1bfc-453a-80fa-8605b1225027",
   "metadata": {},
   "outputs": [],
   "source": [
    "# There's probably a much faster way to do this\n",
    "# But for now, we're prototyping, so slow is okay\n",
    "shells = dict()\n",
    "for j in solv_anal.speciation.speciation_fraction[\"solvent\"]:\n",
    "    shells[j] = solv_anal.speciation.get_shells({'solvent': j})"
   ]
  },
  {
   "cell_type": "code",
   "execution_count": 13,
   "id": "638bfd5a-b07d-4401-a1a7-5a2333adc3ed",
   "metadata": {},
   "outputs": [
    {
     "data": {
      "text/html": [
       "<div>\n",
       "<style scoped>\n",
       "    .dataframe tbody tr th:only-of-type {\n",
       "        vertical-align: middle;\n",
       "    }\n",
       "\n",
       "    .dataframe tbody tr th {\n",
       "        vertical-align: top;\n",
       "    }\n",
       "\n",
       "    .dataframe thead th {\n",
       "        text-align: right;\n",
       "    }\n",
       "</style>\n",
       "<table border=\"1\" class=\"dataframe\">\n",
       "  <thead>\n",
       "    <tr style=\"text-align: right;\">\n",
       "      <th></th>\n",
       "      <th>solvent</th>\n",
       "      <th>solvent</th>\n",
       "    </tr>\n",
       "    <tr>\n",
       "      <th>frame</th>\n",
       "      <th>solute_ix</th>\n",
       "      <th></th>\n",
       "    </tr>\n",
       "  </thead>\n",
       "  <tbody>\n",
       "    <tr>\n",
       "      <th>16</th>\n",
       "      <th>0</th>\n",
       "      <td>6</td>\n",
       "    </tr>\n",
       "    <tr>\n",
       "      <th>19</th>\n",
       "      <th>0</th>\n",
       "      <td>6</td>\n",
       "    </tr>\n",
       "    <tr>\n",
       "      <th>21</th>\n",
       "      <th>0</th>\n",
       "      <td>6</td>\n",
       "    </tr>\n",
       "    <tr>\n",
       "      <th>47</th>\n",
       "      <th>0</th>\n",
       "      <td>6</td>\n",
       "    </tr>\n",
       "    <tr>\n",
       "      <th>60</th>\n",
       "      <th>0</th>\n",
       "      <td>6</td>\n",
       "    </tr>\n",
       "    <tr>\n",
       "      <th>61</th>\n",
       "      <th>0</th>\n",
       "      <td>6</td>\n",
       "    </tr>\n",
       "    <tr>\n",
       "      <th>63</th>\n",
       "      <th>0</th>\n",
       "      <td>6</td>\n",
       "    </tr>\n",
       "    <tr>\n",
       "      <th>64</th>\n",
       "      <th>0</th>\n",
       "      <td>6</td>\n",
       "    </tr>\n",
       "    <tr>\n",
       "      <th>68</th>\n",
       "      <th>0</th>\n",
       "      <td>6</td>\n",
       "    </tr>\n",
       "    <tr>\n",
       "      <th>74</th>\n",
       "      <th>0</th>\n",
       "      <td>6</td>\n",
       "    </tr>\n",
       "    <tr>\n",
       "      <th>88</th>\n",
       "      <th>0</th>\n",
       "      <td>6</td>\n",
       "    </tr>\n",
       "    <tr>\n",
       "      <th>91</th>\n",
       "      <th>0</th>\n",
       "      <td>6</td>\n",
       "    </tr>\n",
       "    <tr>\n",
       "      <th>96</th>\n",
       "      <th>0</th>\n",
       "      <td>6</td>\n",
       "    </tr>\n",
       "    <tr>\n",
       "      <th>97</th>\n",
       "      <th>0</th>\n",
       "      <td>6</td>\n",
       "    </tr>\n",
       "    <tr>\n",
       "      <th>105</th>\n",
       "      <th>0</th>\n",
       "      <td>6</td>\n",
       "    </tr>\n",
       "    <tr>\n",
       "      <th>107</th>\n",
       "      <th>0</th>\n",
       "      <td>6</td>\n",
       "    </tr>\n",
       "    <tr>\n",
       "      <th>108</th>\n",
       "      <th>0</th>\n",
       "      <td>6</td>\n",
       "    </tr>\n",
       "    <tr>\n",
       "      <th>109</th>\n",
       "      <th>0</th>\n",
       "      <td>6</td>\n",
       "    </tr>\n",
       "    <tr>\n",
       "      <th>110</th>\n",
       "      <th>0</th>\n",
       "      <td>6</td>\n",
       "    </tr>\n",
       "    <tr>\n",
       "      <th>111</th>\n",
       "      <th>0</th>\n",
       "      <td>6</td>\n",
       "    </tr>\n",
       "  </tbody>\n",
       "</table>\n",
       "</div>"
      ],
      "text/plain": [
       "solvent          solvent\n",
       "frame solute_ix         \n",
       "16    0                6\n",
       "19    0                6\n",
       "21    0                6\n",
       "47    0                6\n",
       "60    0                6\n",
       "61    0                6\n",
       "63    0                6\n",
       "64    0                6\n",
       "68    0                6\n",
       "74    0                6\n",
       "88    0                6\n",
       "91    0                6\n",
       "96    0                6\n",
       "97    0                6\n",
       "105   0                6\n",
       "107   0                6\n",
       "108   0                6\n",
       "109   0                6\n",
       "110   0                6\n",
       "111   0                6"
      ]
     },
     "execution_count": 13,
     "metadata": {},
     "output_type": "execute_result"
    }
   ],
   "source": [
    "shells[6].head(20)"
   ]
  },
  {
   "cell_type": "code",
   "execution_count": 14,
   "id": "2fbb9801-a26d-4701-be21-54320fb13d4f",
   "metadata": {},
   "outputs": [],
   "source": [
    "# Get one particular solvation shell\n",
    "frame = 97\n",
    "solute_id = 0\n",
    "shell = solv_anal.solvation_data.xs((frame, solute_id), level=(FRAME, SOLUTE_IX))\n",
    "shell = solv_anal._df_to_atom_group(shell, solute_index=solute_id)\n",
    "\n",
    "ts = universe.trajectory[frame]"
   ]
  },
  {
   "cell_type": "code",
   "execution_count": 15,
   "id": "5431ec2b-f4b7-47fd-865c-f390323ad658",
   "metadata": {},
   "outputs": [],
   "source": [
    "mol = Molecule(shell.atoms.elements, shell.atoms.positions, charge=-1)"
   ]
  },
  {
   "cell_type": "code",
   "execution_count": 16,
   "id": "70c4769d-9796-4b18-b5d5-05e2ee0d0eee",
   "metadata": {},
   "outputs": [
    {
     "data": {
      "text/plain": [
       "'22\\nH13 C1 O8\\nC 5.213629 4.010646 3.787675\\nO 5.544917 3.445242 4.909933\\nO 4.268933 3.549391 3.023366\\nH 5.724914 4.949383 3.430768\\nO 2.453162 5.761963 3.259390\\nH 2.568051 4.788162 3.248881\\nH 2.860272 6.243298 2.495815\\nO 5.991415 5.370184 7.172656\\nH 6.047399 4.528969 6.675614\\nH 6.710037 6.029214 7.028440\\nO 3.927344 2.010038 6.552890\\nH 4.090507 2.610084 5.770882\\nH 3.143106 1.504372 6.200307\\nO 1.935280 2.742406 2.130883\\nH 1.996951 3.004244 1.185330\\nH 2.811399 2.935632 2.535291\\nO 8.118183 3.654684 5.401566\\nH 8.641659 2.830808 5.544883\\nH 7.178913 3.487374 5.141880\\nO 3.829306 0.925174 3.727728\\nH 4.615089 0.935677 4.324878\\nH 3.829990 1.813738 3.338258'"
      ]
     },
     "execution_count": 16,
     "metadata": {},
     "output_type": "execute_result"
    }
   ],
   "source": [
    "data_dir = \"/home/ewcss/data/omol24/20240130_ionsolvr_data\"\n",
    "mol.to(os.path.join(data_dir, \"water_formate_32_shell6_randomselection_charge-1.xyz\"), \"xyz\")"
   ]
  },
  {
   "cell_type": "code",
   "execution_count": 17,
   "id": "4b898588-6a31-48f2-9f11-59feff4db972",
   "metadata": {},
   "outputs": [],
   "source": [
    "def rmsd(a, b):\n",
    "    return np.sqrt(np.mean(np.linalg.norm(b - a, axis=1)))\n",
    "\n",
    "def filter_by_rmsd(coords, n=20):\n",
    "    \"\"\"\n",
    "    From a set of coordinates, determine the n most diverse, where \"most diverse\" means \"most different, in terms of RMSD\"\n",
    "\n",
    "    Because of the way that IonSolvR data is organized, should be able to just directly calculate rmsd on numpy coordinate arrays\n",
    "\n",
    "    Args:\n",
    "        coords: list of np.ndarrays. Must all have the same shape, and must all reflect the same atom order!\n",
    "            Note that this latter requirement shouldn't be a problem, specifically when dealing with IonSolvR data.\n",
    "    \"\"\"\n",
    "\n",
    "    states = {0}\n",
    "    min_rmsds = np.array([rmsd(coords[0], coords[i]) for i in range(len(coords))])\n",
    "    for i in range(n - 1):\n",
    "        best = np.argmax(min_rmsds)\n",
    "        min_rmsds = np.minimum(min_rmsds, np.array([rmsd(coords[best], coords[i]) for i in range(len(coords))]))\n",
    "        states.add(best)\n",
    "\n",
    "    return [coords[i] for i in states]"
   ]
  },
  {
   "cell_type": "code",
   "execution_count": 48,
   "id": "e238276e-e6ec-4c0e-8c3a-89f6ee083220",
   "metadata": {},
   "outputs": [],
   "source": [
    "def reorient(box_dimensions, coords, solute_natoms, solvent_natoms):\n",
    "\n",
    "    transforms = [np.array(x) * box_dimensions for x in itertools.product([0, -1, 1],[0, -1, 1], [0, -1, 1])]\n",
    "    \n",
    "    cog_solu = np.mean(coords[:solute_natoms], axis=0)\n",
    "\n",
    "    n_solvents = int((len(coords) - solute_natoms) / solvent_natoms)\n",
    "\n",
    "    final_box = np.zeros(coords.shape)\n",
    "    final_box[:solute_natoms] = coords[:solute_natoms]\n",
    "    \n",
    "    for i in range(n_solvents):\n",
    "        min_dist = np.inf\n",
    "        best_coords = np.zeros((solvent_natoms, 3))\n",
    "        \n",
    "        start_index = solute_natoms + i * solvent_natoms\n",
    "        coords_i = coords[start_index:start_index + solvent_natoms]\n",
    "        assert len(coords_i) == solvent_natoms\n",
    "        \n",
    "        for transform in transforms:\n",
    "            coords_copy = copy.deepcopy(coords_i)\n",
    "            for i in range(solvent_natoms):\n",
    "                coords_copy[i] += transform\n",
    "            \n",
    "            cog_solv = np.mean(coords_copy, axis=0)\n",
    "            dist = np.linalg.norm(cog_solv - cog_solu)\n",
    "            if dist < min_dist:\n",
    "                min_dist = dist\n",
    "                best_coords = coords_copy\n",
    "        final_box[start_index:start_index + solvent_natoms] = best_coords\n",
    "    return final_box\n",
    "    "
   ]
  },
  {
   "cell_type": "code",
   "execution_count": 49,
   "id": "3c232ac4-d9e9-41f8-8180-a65c1d447e9a",
   "metadata": {},
   "outputs": [],
   "source": [
    "# Now let's try getting the most diverse structures with a particular coordination number\n",
    "# This is also a bit slow, particularly for the more common and/or larger solvent shells\n",
    "\n",
    "shell_species = list()\n",
    "shell_positions = list()\n",
    "for index, _ in shells[4].iterrows():\n",
    "    ts = universe.trajectory[index[0]]\n",
    "    shell = solv_anal.solvation_data.xs((index[0], index[1]), level=(FRAME, SOLUTE_IX))\n",
    "    shell = solv_anal._df_to_atom_group(shell, solute_index=index[1])\n",
    "    shell = shell.copy()\n",
    "    shell.unwrap()\n",
    "    if len(shell.atoms.elements) > len(shell_species):\n",
    "        shell_species = shell.atoms.elements\n",
    "    \n",
    "    shell_positions.append(reorient(universe.dimensions[:3], shell.atoms.positions, solute_natoms, solvent_natoms))"
   ]
  },
  {
   "cell_type": "code",
   "execution_count": 50,
   "id": "d328d04f-e47f-47b0-b7f5-0e23670ee274",
   "metadata": {},
   "outputs": [
    {
     "name": "stdout",
     "output_type": "stream",
     "text": [
      "16 20\n",
      "13 3\n"
     ]
    }
   ],
   "source": [
    "by_num_atoms = defaultdict(list)\n",
    "for sps in shell_positions:\n",
    "    by_num_atoms[len(sps)].append(sps)\n",
    "\n",
    "selections_by_num_atoms = {k: filter_by_rmsd(v) for k, v in by_num_atoms.items()}\n",
    "for k, v in selections_by_num_atoms.items():\n",
    "    print(k, len(v))"
   ]
  },
  {
   "cell_type": "code",
   "execution_count": 51,
   "id": "6edfcda9-9237-4339-8af3-aa2453e4e1aa",
   "metadata": {},
   "outputs": [],
   "source": [
    "data_dir = \"/home/ewcss/data/omol24/20240130_ionsolvr_data\"\n",
    "for k, v in selections_by_num_atoms.items():\n",
    "    for ii, positions in enumerate(v):\n",
    "        mol = Molecule(shell_species[:len(positions)], positions, charge=-1)\n",
    "        mol.to(os.path.join(data_dir, f\"water_formate_32_coord4_size{k}_selection{ii}_charge-1.xyz\"), \"xyz\")"
   ]
  },
  {
   "cell_type": "code",
   "execution_count": null,
   "id": "d8ecfe6b-ccb7-425b-b55e-0ca06fa6c80a",
   "metadata": {},
   "outputs": [],
   "source": []
  }
 ],
 "metadata": {
  "kernelspec": {
   "display_name": "Python 3 (ipykernel)",
   "language": "python",
   "name": "python3"
  },
  "language_info": {
   "codemirror_mode": {
    "name": "ipython",
    "version": 3
   },
   "file_extension": ".py",
   "mimetype": "text/x-python",
   "name": "python",
   "nbconvert_exporter": "python",
   "pygments_lexer": "ipython3",
   "version": "3.11.0"
  }
 },
 "nbformat": 4,
 "nbformat_minor": 5
}
